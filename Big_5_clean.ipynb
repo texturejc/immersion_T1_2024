{
 "cells": [
  {
   "cell_type": "markdown",
   "id": "8134290e-c8c3-4d05-80fe-a178b50c6c7e",
   "metadata": {},
   "source": [
    "# The Bitter Truth\n",
    "\n",
    "<img src=\"bitter.jpg\" width=600 height=600 />"
   ]
  },
  {
   "cell_type": "code",
   "execution_count": 118,
   "id": "6259ef9a",
   "metadata": {},
   "outputs": [],
   "source": [
    "\n",
    "import plotly.express as px\n",
    "import pandas as pd\n",
    "import seaborn as sns\n",
    "sns.set()\n",
    "import matplotlib.pyplot as plt\n",
    "import pingouin as pg"
   ]
  },
  {
   "cell_type": "markdown",
   "id": "735d7f06",
   "metadata": {},
   "source": [
    "# Import the survey data"
   ]
  },
  {
   "cell_type": "code",
   "execution_count": 20,
   "id": "e491054a",
   "metadata": {},
   "outputs": [],
   "source": [
    "data = pd.read_pickle('cleaned_merged_data.pkl')\n"
   ]
  },
  {
   "cell_type": "markdown",
   "id": "f73a07a8-4c3c-4215-9ed0-39545fe0ff67",
   "metadata": {},
   "source": [
    "## Perform a t-test"
   ]
  },
  {
   "cell_type": "code",
   "execution_count": 110,
   "id": "2ab8a906-7a27-47a0-97e8-80d95bb39636",
   "metadata": {},
   "outputs": [],
   "source": [
    "ttest = pg.pairwise_tests(dv='Traditional marriage', between='sensitivity', data=data)"
   ]
  },
  {
   "cell_type": "code",
   "execution_count": null,
   "id": "571a6de4-d196-4c6a-9cec-c1cca9b6a06f",
   "metadata": {},
   "outputs": [],
   "source": [
    "sns.pointplot(x = 'sensitivity', y = 'Traditional marriage', data = data)"
   ]
  },
  {
   "cell_type": "markdown",
   "id": "e1c47340-36c2-453d-b362-61a2978982a2",
   "metadata": {},
   "source": [
    "## Perform a regression"
   ]
  },
  {
   "cell_type": "code",
   "execution_count": 126,
   "id": "c37f4bc8-ad2a-4b78-9a10-529144dea5ab",
   "metadata": {},
   "outputs": [],
   "source": [
    "reg = pg.linear_regression(data[['openness', 'conscientiousness', 'agreeableness', 'extraversion', 'neuroticism']], data['Traditional marriage'])"
   ]
  },
  {
   "cell_type": "code",
   "execution_count": 132,
   "id": "e2ff46ca-cf4d-4ed6-8dfd-c1553a74e0fc",
   "metadata": {},
   "outputs": [],
   "source": [
    "reg = pg.linear_regression(data['intensity'], data['Traditional marriage'])"
   ]
  },
  {
   "cell_type": "code",
   "execution_count": null,
   "id": "6ac847c0-29b6-4fca-a941-4b46c63fa2a2",
   "metadata": {},
   "outputs": [],
   "source": [
    "fig = px.scatter(data, x=\"intensity\", y=\"Traditional marriage\", hover_data = [\"ID\"], \n",
    "                 trendline=\"ols\")\n",
    "fig.show()"
   ]
  },
  {
   "cell_type": "code",
   "execution_count": null,
   "id": "6a61d95c-9676-4059-9362-2b6678d88e0e",
   "metadata": {},
   "outputs": [],
   "source": []
  }
 ],
 "metadata": {
  "kernelspec": {
   "display_name": "Python 3 (ipykernel)",
   "language": "python",
   "name": "python3"
  },
  "language_info": {
   "codemirror_mode": {
    "name": "ipython",
    "version": 3
   },
   "file_extension": ".py",
   "mimetype": "text/x-python",
   "name": "python",
   "nbconvert_exporter": "python",
   "pygments_lexer": "ipython3",
   "version": "3.9.18"
  }
 },
 "nbformat": 4,
 "nbformat_minor": 5
}
